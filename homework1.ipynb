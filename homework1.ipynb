{
  "cells": [
    {
      "cell_type": "markdown",
      "metadata": {
        "id": "sbNVaUHxmK0b"
      },
      "source": [
        "<a href=\"https://colab.research.google.com/drive/1OMWsj9Mv4ToSGMn6TWyViCu6tEWgXdm5?usp=sharing\" target=\"_parent\"><img src=\"https://colab.research.google.com/assets/colab-badge.svg\" alt=\"Open In Colab\"/></a>"
      ]
    },
    {
      "cell_type": "markdown",
      "metadata": {
        "id": "qVrTo-LhL9eS"
      },
      "source": [
        "# Introduction"
      ]
    },
    {
      "cell_type": "markdown",
      "metadata": {
        "id": "9t1gKp9PL9eV"
      },
      "source": [
        "Python is a great general-purpose programming language on its own, but with the help of a few popular libraries (numpy, scipy, matplotlib) it becomes a powerful environment for scientific computing."
      ]
    },
    {
      "cell_type": "markdown",
      "metadata": {
        "id": "U1PvreR9L9eW"
      },
      "source": [
        "In this tutorial, we will cover:\n",
        "- Basic data types\n",
        "- Functions\n",
        "- Classes"
      ]
    },
    {
      "cell_type": "code",
      "execution_count": null,
      "metadata": {
        "id": "zeVKP4ksmK0m",
        "outputId": "e32aef5c-d717-4f47-bf3e-923dbea963bb"
      },
      "outputs": [
        {
          "name": "stdout",
          "output_type": "stream",
          "text": [
            "Python 3.10.6\n"
          ]
        }
      ],
      "source": [
        "!python --version"
      ]
    },
    {
      "cell_type": "code",
      "execution_count": null,
      "metadata": {
        "id": "emTArVCsmK0r",
        "outputId": "11c65f44-4bc1-46e1-f558-4c05399d8b6a"
      },
      "outputs": [
        {
          "name": "stdout",
          "output_type": "stream",
          "text": [
            "The Zen of Python, by Tim Peters\n",
            "\n",
            "Beautiful is better than ugly.\n",
            "Explicit is better than implicit.\n",
            "Simple is better than complex.\n",
            "Complex is better than complicated.\n",
            "Flat is better than nested.\n",
            "Sparse is better than dense.\n",
            "Readability counts.\n",
            "Special cases aren't special enough to break the rules.\n",
            "Although practicality beats purity.\n",
            "Errors should never pass silently.\n",
            "Unless explicitly silenced.\n",
            "In the face of ambiguity, refuse the temptation to guess.\n",
            "There should be one-- and preferably only one --obvious way to do it.\n",
            "Although that way may not be obvious at first unless you're Dutch.\n",
            "Now is better than never.\n",
            "Although never is often better than *right* now.\n",
            "If the implementation is hard to explain, it's a bad idea.\n",
            "If the implementation is easy to explain, it may be a good idea.\n",
            "Namespaces are one honking great idea -- let's do more of those!\n"
          ]
        }
      ],
      "source": [
        "import this"
      ]
    },
    {
      "cell_type": "markdown",
      "metadata": {
        "id": "7ULNIUfOmK0s"
      },
      "source": [
        "![image.png](attachment:image.png)"
      ]
    },
    {
      "cell_type": "markdown",
      "metadata": {
        "id": "JAFKYgrpL9eY"
      },
      "source": [
        "# Basics of Python\n",
        "Python is a high-level, dynamically typed multiparadigm programming language. Python code is often said to be almost like pseudocode, since it allows you to express very powerful ideas in very few lines of code while being very readable. As an example, here is an implementation of the classic quicksort algorithm in Python:"
      ]
    },
    {
      "cell_type": "code",
      "execution_count": null,
      "metadata": {
        "colab": {
          "base_uri": "https://localhost:8080/",
          "height": 34
        },
        "id": "cYb0pjh1L9eb",
        "outputId": "9a8e37de-1dc1-4092-faee-06ad4ff2d73a"
      },
      "outputs": [
        {
          "name": "stdout",
          "output_type": "stream",
          "text": [
            "[1, 1, 2, 3, 6, 8, 10]\n"
          ]
        }
      ],
      "source": [
        "def quicksort(arr):\n",
        "    if len(arr) <= 1:\n",
        "        return arr\n",
        "    pivot = arr[len(arr) // 2]\n",
        "    left = [x for x in arr if x < pivot]\n",
        "    middle = [x for x in arr if x == pivot]\n",
        "    right = [x for x in arr if x > pivot]\n",
        "    return quicksort(left) + middle + quicksort(right)\n",
        "\n",
        "print(quicksort([3,6,8,10,1,2,1]))"
      ]
    },
    {
      "cell_type": "markdown",
      "metadata": {
        "id": "NwS_hu4xL9eo"
      },
      "source": [
        "## Basic data types"
      ]
    },
    {
      "cell_type": "markdown",
      "metadata": {
        "id": "DL5sMSZ9L9eq"
      },
      "source": [
        "### Numbers"
      ]
    },
    {
      "cell_type": "markdown",
      "metadata": {
        "id": "MGS0XEWoL9er"
      },
      "source": [
        "Integers and floats work as you would expect from other languages:"
      ]
    },
    {
      "cell_type": "code",
      "execution_count": null,
      "metadata": {
        "colab": {
          "base_uri": "https://localhost:8080/",
          "height": 52
        },
        "id": "KheDr_zDL9es",
        "outputId": "1db9f4d3-2e0d-4008-f78a-161ed52c4359"
      },
      "outputs": [
        {
          "name": "stdout",
          "output_type": "stream",
          "text": [
            "3 <class 'int'>\n"
          ]
        }
      ],
      "source": [
        "x = 3\n",
        "print(x, type(x))"
      ]
    },
    {
      "cell_type": "code",
      "execution_count": null,
      "metadata": {
        "colab": {
          "base_uri": "https://localhost:8080/",
          "height": 86
        },
        "id": "sk_8DFcuL9ey",
        "outputId": "dd60a271-3457-465d-e16a-41acf12a56ab"
      },
      "outputs": [
        {
          "name": "stdout",
          "output_type": "stream",
          "text": [
            "4\n",
            "2\n",
            "6\n",
            "9\n"
          ]
        }
      ],
      "source": [
        "print(x + 1)   # Addition\n",
        "print(x - 1)   # Subtraction\n",
        "print(x * 2)   # Multiplication\n",
        "print(x ** 2)  # Exponentiation"
      ]
    },
    {
      "cell_type": "code",
      "execution_count": null,
      "metadata": {
        "colab": {
          "base_uri": "https://localhost:8080/",
          "height": 52
        },
        "id": "U4Jl8K0tL9e4",
        "outputId": "07e3db14-3781-42b7-8ba6-042b3f9f72ba"
      },
      "outputs": [
        {
          "name": "stdout",
          "output_type": "stream",
          "text": [
            "4\n",
            "8\n"
          ]
        }
      ],
      "source": [
        "x += 1\n",
        "print(x)\n",
        "x *= 2\n",
        "print(x)"
      ]
    },
    {
      "cell_type": "code",
      "execution_count": null,
      "metadata": {
        "colab": {
          "base_uri": "https://localhost:8080/",
          "height": 52
        },
        "id": "w-nZ0Sg_L9e9",
        "outputId": "3aa579f8-9540-46ef-935e-be887781ecb4"
      },
      "outputs": [
        {
          "name": "stdout",
          "output_type": "stream",
          "text": [
            "<class 'float'>\n",
            "2.5 3.5 5.0 6.25\n"
          ]
        }
      ],
      "source": [
        "y = 2.5\n",
        "print(type(y))\n",
        "print(y, y + 1, y * 2, y ** 2)"
      ]
    },
    {
      "cell_type": "markdown",
      "metadata": {
        "id": "r2A9ApyaL9fB"
      },
      "source": [
        "Note that unlike many languages, Python does not have unary increment (x++) or decrement (x--) operators.\n",
        "\n",
        "Python also has built-in types for long integers and complex numbers; you can find all of the details in the [documentation](https://docs.python.org/3.7/library/stdtypes.html#numeric-types-int-float-long-complex)."
      ]
    },
    {
      "cell_type": "markdown",
      "metadata": {
        "id": "EqRS7qhBL9fC"
      },
      "source": [
        "### Booleans"
      ]
    },
    {
      "cell_type": "markdown",
      "metadata": {
        "id": "Nv_LIVOJL9fD"
      },
      "source": [
        "Python implements all of the usual operators for Boolean logic, but uses English words rather than symbols (`&&`, `||`, etc.):"
      ]
    },
    {
      "cell_type": "code",
      "execution_count": null,
      "metadata": {
        "colab": {
          "base_uri": "https://localhost:8080/",
          "height": 34
        },
        "id": "RvoImwgGL9fE",
        "outputId": "1517077b-edca-463f-857b-6a8c386cd387"
      },
      "outputs": [
        {
          "name": "stdout",
          "output_type": "stream",
          "text": [
            "<class 'bool'>\n"
          ]
        }
      ],
      "source": [
        "t, f = True, False\n",
        "print(type(t))"
      ]
    },
    {
      "cell_type": "markdown",
      "metadata": {
        "id": "YQgmQfOgL9fI"
      },
      "source": [
        "Now we let's look at the operations:"
      ]
    },
    {
      "cell_type": "code",
      "execution_count": null,
      "metadata": {
        "colab": {
          "base_uri": "https://localhost:8080/",
          "height": 86
        },
        "id": "6zYm7WzCL9fK",
        "outputId": "f3cebe76-5af4-473a-8127-88a1fd60560f"
      },
      "outputs": [
        {
          "name": "stdout",
          "output_type": "stream",
          "text": [
            "False\n",
            "True\n",
            "False\n",
            "True\n"
          ]
        }
      ],
      "source": [
        "print(t and f) # Logical AND;\n",
        "print(t or f)  # Logical OR;\n",
        "print(not t)   # Logical NOT;\n",
        "print(t != f)  # Logical XOR;"
      ]
    },
    {
      "cell_type": "markdown",
      "metadata": {
        "id": "UQnQWFEyL9fP"
      },
      "source": [
        "### Strings"
      ]
    },
    {
      "cell_type": "code",
      "execution_count": null,
      "metadata": {
        "colab": {
          "base_uri": "https://localhost:8080/",
          "height": 34
        },
        "id": "AijEDtPFL9fP",
        "outputId": "2a6b0cd7-58f1-43cf-e6b7-bf940d532549"
      },
      "outputs": [
        {
          "name": "stdout",
          "output_type": "stream",
          "text": [
            "hello 5\n"
          ]
        }
      ],
      "source": [
        "hello = 'hello'   # String literals can use single quotes\n",
        "world = \"world\"   # or double quotes; it does not matter\n",
        "print(hello, len(hello))"
      ]
    },
    {
      "cell_type": "code",
      "execution_count": null,
      "metadata": {
        "colab": {
          "base_uri": "https://localhost:8080/",
          "height": 34
        },
        "id": "saDeaA7hL9fT",
        "outputId": "2837d0ab-9ae5-4053-d087-bfa0af81c344"
      },
      "outputs": [
        {
          "name": "stdout",
          "output_type": "stream",
          "text": [
            "hello world\n"
          ]
        }
      ],
      "source": [
        "hw = hello + ' ' + world  # String concatenation\n",
        "print(hw)"
      ]
    },
    {
      "cell_type": "code",
      "execution_count": null,
      "metadata": {
        "colab": {
          "base_uri": "https://localhost:8080/",
          "height": 34
        },
        "id": "Nji1_UjYL9fY",
        "outputId": "0149b0ca-425a-4a34-8e24-8dff7080922e"
      },
      "outputs": [
        {
          "name": "stdout",
          "output_type": "stream",
          "text": [
            "hello world 12\n"
          ]
        }
      ],
      "source": [
        "hw12 = '{} {} {}'.format(hello, world, 12)  # string formatting\n",
        "print(hw12)"
      ]
    },
    {
      "cell_type": "markdown",
      "metadata": {
        "id": "bUpl35bIL9fc"
      },
      "source": [
        "String objects have a bunch of useful methods; for example:"
      ]
    },
    {
      "cell_type": "code",
      "execution_count": null,
      "metadata": {
        "colab": {
          "base_uri": "https://localhost:8080/",
          "height": 121
        },
        "id": "VOxGatlsL9fd",
        "outputId": "ab009df3-8643-4d3e-f85f-a813b70db9cb"
      },
      "outputs": [
        {
          "name": "stdout",
          "output_type": "stream",
          "text": [
            "Hello\n",
            "HELLO\n",
            "  hello\n",
            " hello \n",
            "he(ell)(ell)o\n",
            "world\n"
          ]
        }
      ],
      "source": [
        "s = \"hello\"\n",
        "print(s.capitalize())  # Capitalize a string\n",
        "print(s.upper())       # Convert a string to uppercase; prints \"HELLO\"\n",
        "print(s.rjust(7))      # Right-justify a string, padding with spaces\n",
        "print(s.center(7))     # Center a string, padding with spaces\n",
        "print(s.replace('l', '(ell)'))  # Replace all instances of one substring with another\n",
        "print('  world '.strip())  # Strip leading and trailing whitespace"
      ]
    },
    {
      "cell_type": "markdown",
      "metadata": {
        "id": "06cayXLtL9fi"
      },
      "source": [
        "You can find a list of all string methods in the [documentation](https://docs.python.org/3.7/library/stdtypes.html#string-methods)."
      ]
    },
    {
      "cell_type": "markdown",
      "metadata": {
        "id": "p-6hClFjL9fk"
      },
      "source": [
        "## Containers"
      ]
    },
    {
      "cell_type": "markdown",
      "metadata": {
        "id": "FD9H18eQL9fk"
      },
      "source": [
        "Python includes several built-in container types: lists, dictionaries, sets, and tuples."
      ]
    },
    {
      "cell_type": "markdown",
      "metadata": {
        "id": "UsIWOe0LL9fn"
      },
      "source": [
        "### Lists"
      ]
    },
    {
      "cell_type": "markdown",
      "metadata": {
        "id": "wzxX7rgWL9fn"
      },
      "source": [
        "A list is the Python equivalent of an array, but is resizeable and can contain elements of different types:"
      ]
    },
    {
      "cell_type": "code",
      "execution_count": null,
      "metadata": {
        "colab": {
          "base_uri": "https://localhost:8080/",
          "height": 52
        },
        "id": "hk3A8pPcL9fp",
        "outputId": "b545939a-580c-4356-db95-7ad3670b46e4"
      },
      "outputs": [
        {
          "name": "stdout",
          "output_type": "stream",
          "text": [
            "[3, 1, 2] 2\n",
            "2\n"
          ]
        }
      ],
      "source": [
        "xs = [3, 1, 2]   # Create a list\n",
        "print(xs, xs[2])\n",
        "print(xs[-1])     # Negative indices count from the end of the list; prints \"2\""
      ]
    },
    {
      "cell_type": "code",
      "execution_count": null,
      "metadata": {
        "colab": {
          "base_uri": "https://localhost:8080/",
          "height": 34
        },
        "id": "YCjCy_0_L9ft",
        "outputId": "417c54ff-170b-4372-9099-0f756f8e48af"
      },
      "outputs": [
        {
          "name": "stdout",
          "output_type": "stream",
          "text": [
            "[3, 1, 'foo']\n"
          ]
        }
      ],
      "source": [
        "xs[2] = 'foo'    # Lists can contain elements of different types\n",
        "print(xs)"
      ]
    },
    {
      "cell_type": "code",
      "execution_count": null,
      "metadata": {
        "colab": {
          "base_uri": "https://localhost:8080/",
          "height": 34
        },
        "id": "vJ0x5cF-L9fx",
        "outputId": "a97731a3-70e1-4553-d9e0-2aea227cac80"
      },
      "outputs": [
        {
          "name": "stdout",
          "output_type": "stream",
          "text": [
            "[3, 1, 'foo', 'bar']\n"
          ]
        }
      ],
      "source": [
        "xs.append('bar') # Add a new element to the end of the list\n",
        "print(xs)"
      ]
    },
    {
      "cell_type": "code",
      "execution_count": null,
      "metadata": {
        "colab": {
          "base_uri": "https://localhost:8080/",
          "height": 34
        },
        "id": "cxVCNRTNL9f1",
        "outputId": "508fbe59-20aa-48b5-a1b2-f90363e7a104"
      },
      "outputs": [
        {
          "name": "stdout",
          "output_type": "stream",
          "text": [
            "bar [3, 1, 'foo']\n"
          ]
        }
      ],
      "source": [
        "x = xs.pop()     # Remove and return the last element of the list\n",
        "print(x, xs)"
      ]
    },
    {
      "cell_type": "markdown",
      "metadata": {
        "id": "ilyoyO34L9f4"
      },
      "source": [
        "As usual, you can find all the gory details about lists in the [documentation](https://docs.python.org/3.7/tutorial/datastructures.html#more-on-lists)."
      ]
    },
    {
      "cell_type": "markdown",
      "metadata": {
        "id": "ovahhxd_L9f5"
      },
      "source": [
        "#### Slicing\n",
        "In addition to accessing list elements one at a time, Python provides concise syntax to access sublists; this is known as slicing:"
      ]
    },
    {
      "cell_type": "code",
      "execution_count": null,
      "metadata": {
        "colab": {
          "base_uri": "https://localhost:8080/",
          "height": 139
        },
        "id": "ninq666bL9f6",
        "outputId": "c3c2ed92-7358-4fdb-bbc0-e90f82e7e941"
      },
      "outputs": [
        {
          "name": "stdout",
          "output_type": "stream",
          "text": [
            "[0, 1, 2, 3, 4]\n",
            "[2, 3]\n",
            "[2, 3, 4]\n",
            "[0, 1]\n",
            "[0, 1, 2, 3, 4]\n",
            "[0, 1, 2, 3]\n",
            "[0, 1, 8, 9, 4]\n"
          ]
        }
      ],
      "source": [
        "nums = list(range(5))    # range is a built-in function that creates a list of integers\n",
        "print(nums)         # Prints \"[0, 1, 2, 3, 4]\"\n",
        "print(nums[2:4])    # Get a slice from index 2 to 4 (exclusive); prints \"[2, 3]\"\n",
        "print(nums[2:])     # Get a slice from index 2 to the end; prints \"[2, 3, 4]\"\n",
        "print(nums[:2])     # Get a slice from the start to index 2 (exclusive); prints \"[0, 1]\"\n",
        "print(nums[:])      # Get a slice of the whole list; prints [\"0, 1, 2, 3, 4]\"\n",
        "print(nums[:-1])    # Slice indices can be negative; prints [\"0, 1, 2, 3]\"\n",
        "nums[2:4] = [8, 9] # Assign a new sublist to a slice\n",
        "print(nums)         # Prints \"[0, 1, 8, 9, 4]\""
      ]
    },
    {
      "cell_type": "markdown",
      "metadata": {
        "id": "UONpMhF4L9f_"
      },
      "source": [
        "#### Loops"
      ]
    },
    {
      "cell_type": "markdown",
      "metadata": {
        "id": "_DYz1j6QL9f_"
      },
      "source": [
        "You can loop over the elements of a list like this:"
      ]
    },
    {
      "cell_type": "code",
      "execution_count": null,
      "metadata": {
        "colab": {
          "base_uri": "https://localhost:8080/",
          "height": 69
        },
        "id": "4cCOysfWL9gA",
        "outputId": "560e46c7-279c-409a-838c-64bea8d321c4"
      },
      "outputs": [
        {
          "name": "stdout",
          "output_type": "stream",
          "text": [
            "cat\n",
            "dog\n",
            "monkey\n"
          ]
        }
      ],
      "source": [
        "animals = ['cat', 'dog', 'monkey']\n",
        "for animal in animals:\n",
        "    print(animal)"
      ]
    },
    {
      "cell_type": "markdown",
      "metadata": {
        "id": "KxIaQs7pL9gE"
      },
      "source": [
        "If you want access to the index of each element within the body of a loop, use the built-in `enumerate` function:"
      ]
    },
    {
      "cell_type": "code",
      "execution_count": null,
      "metadata": {
        "colab": {
          "base_uri": "https://localhost:8080/",
          "height": 69
        },
        "id": "JjGnDluWL9gF",
        "outputId": "81421905-17ea-4c5a-bcc0-176de19fd9bd"
      },
      "outputs": [
        {
          "name": "stdout",
          "output_type": "stream",
          "text": [
            "#1: cat\n",
            "#2: dog\n",
            "#3: monkey\n"
          ]
        }
      ],
      "source": [
        "animals = ['cat', 'dog', 'monkey']\n",
        "for idx, animal in enumerate(animals):\n",
        "    print('#{}: {}'.format(idx + 1, animal))"
      ]
    },
    {
      "cell_type": "markdown",
      "metadata": {
        "id": "arrLCcMyL9gK"
      },
      "source": [
        "#### List comprehensions"
      ]
    },
    {
      "cell_type": "markdown",
      "metadata": {
        "id": "5Qn2jU_pL9gL"
      },
      "source": [
        "When programming, frequently we want to transform one type of data into another. As a simple example, consider the following code that computes square numbers:"
      ]
    },
    {
      "cell_type": "code",
      "execution_count": null,
      "metadata": {
        "colab": {
          "base_uri": "https://localhost:8080/",
          "height": 34
        },
        "id": "IVNEwoMXL9gL",
        "outputId": "d571445b-055d-45f0-f800-24fd76ceec5a"
      },
      "outputs": [
        {
          "name": "stdout",
          "output_type": "stream",
          "text": [
            "[0, 1, 4, 9, 16]\n"
          ]
        }
      ],
      "source": [
        "nums = [0, 1, 2, 3, 4]\n",
        "squares = []\n",
        "for x in nums:\n",
        "    squares.append(x ** 2)\n",
        "print(squares)"
      ]
    },
    {
      "cell_type": "markdown",
      "metadata": {
        "id": "7DmKVUFaL9gQ"
      },
      "source": [
        "You can make this code simpler using a list comprehension:"
      ]
    },
    {
      "cell_type": "code",
      "execution_count": null,
      "metadata": {
        "colab": {
          "base_uri": "https://localhost:8080/",
          "height": 34
        },
        "id": "kZxsUfV6L9gR",
        "outputId": "4254a7d4-58ba-4f70-a963-20c46b485b72"
      },
      "outputs": [
        {
          "name": "stdout",
          "output_type": "stream",
          "text": [
            "[0, 1, 4, 9, 16]\n"
          ]
        }
      ],
      "source": [
        "nums = [0, 1, 2, 3, 4]\n",
        "squares = [x ** 2 for x in nums]\n",
        "print(squares)"
      ]
    },
    {
      "cell_type": "markdown",
      "metadata": {
        "id": "-D8ARK7tL9gV"
      },
      "source": [
        "List comprehensions can also contain conditions:"
      ]
    },
    {
      "cell_type": "code",
      "execution_count": null,
      "metadata": {
        "colab": {
          "base_uri": "https://localhost:8080/",
          "height": 34
        },
        "id": "yUtgOyyYL9gV",
        "outputId": "1ae7ab58-8119-44dc-8e57-fda09197d026"
      },
      "outputs": [
        {
          "name": "stdout",
          "output_type": "stream",
          "text": [
            "[0, 4, 16]\n"
          ]
        }
      ],
      "source": [
        "nums = [0, 1, 2, 3, 4]\n",
        "even_squares = [x ** 2 for x in nums if x % 2 == 0]\n",
        "print(even_squares)"
      ]
    },
    {
      "cell_type": "markdown",
      "metadata": {
        "id": "H8xsUEFpL9gZ"
      },
      "source": [
        "### Dictionaries"
      ]
    },
    {
      "cell_type": "markdown",
      "metadata": {
        "id": "kkjAGMAJL9ga"
      },
      "source": [
        "A dictionary stores (key, value) pairs, similar to a `Map` in Java or an object in Javascript. You can use it like this:"
      ]
    },
    {
      "cell_type": "code",
      "execution_count": null,
      "metadata": {
        "colab": {
          "base_uri": "https://localhost:8080/",
          "height": 52
        },
        "id": "XBYI1MrYL9gb",
        "outputId": "8e24c1da-0fc0-4b4c-a3e6-6f758a53b7da"
      },
      "outputs": [
        {
          "name": "stdout",
          "output_type": "stream",
          "text": [
            "cute\n",
            "True\n"
          ]
        }
      ],
      "source": [
        "d = {'cat': 'cute', 'dog': 'furry'}  # Create a new dictionary with some data\n",
        "print(d['cat'])       # Get an entry from a dictionary; prints \"cute\"\n",
        "print('cat' in d)     # Check if a dictionary has a given key; prints \"True\""
      ]
    },
    {
      "cell_type": "code",
      "execution_count": null,
      "metadata": {
        "colab": {
          "base_uri": "https://localhost:8080/",
          "height": 34
        },
        "id": "pS7e-G-HL9gf",
        "outputId": "feb4bf18-c0a3-42a2-eaf5-3fc390f36dcf"
      },
      "outputs": [
        {
          "name": "stdout",
          "output_type": "stream",
          "text": [
            "wet\n"
          ]
        }
      ],
      "source": [
        "d['fish'] = 'wet'    # Set an entry in a dictionary\n",
        "print(d['fish'])      # Prints \"wet\""
      ]
    },
    {
      "cell_type": "code",
      "execution_count": null,
      "metadata": {
        "colab": {
          "base_uri": "https://localhost:8080/",
          "height": 165
        },
        "id": "tFY065ItL9gi",
        "outputId": "7e42a5f0-1856-4608-a927-0930ab37a66c"
      },
      "outputs": [
        {
          "ename": "KeyError",
          "evalue": "'monkey'",
          "output_type": "error",
          "traceback": [
            "\u001b[1;31m---------------------------------------------------------------------------\u001b[0m",
            "\u001b[1;31mKeyError\u001b[0m                                  Traceback (most recent call last)",
            "Input \u001b[1;32mIn [27]\u001b[0m, in \u001b[0;36m<cell line: 1>\u001b[1;34m()\u001b[0m\n\u001b[1;32m----> 1\u001b[0m \u001b[38;5;28mprint\u001b[39m(\u001b[43md\u001b[49m\u001b[43m[\u001b[49m\u001b[38;5;124;43m'\u001b[39;49m\u001b[38;5;124;43mmonkey\u001b[39;49m\u001b[38;5;124;43m'\u001b[39;49m\u001b[43m]\u001b[49m)\n",
            "\u001b[1;31mKeyError\u001b[0m: 'monkey'"
          ]
        }
      ],
      "source": [
        "print(d['monkey'])  # KeyError: 'monkey' not a key of d"
      ]
    },
    {
      "cell_type": "code",
      "execution_count": null,
      "metadata": {
        "colab": {
          "base_uri": "https://localhost:8080/",
          "height": 52
        },
        "id": "8TjbEWqML9gl",
        "outputId": "ef14d05e-401d-4d23-ed1a-0fe6b4c77d6f"
      },
      "outputs": [
        {
          "name": "stdout",
          "output_type": "stream",
          "text": [
            "N/A\n",
            "wet\n"
          ]
        }
      ],
      "source": [
        "print(d.get('monkey', 'N/A'))  # Get an element with a default; prints \"N/A\"\n",
        "print(d.get('fish', 'N/A'))    # Get an element with a default; prints \"wet\""
      ]
    },
    {
      "cell_type": "code",
      "execution_count": null,
      "metadata": {
        "colab": {
          "base_uri": "https://localhost:8080/",
          "height": 34
        },
        "id": "0EItdNBJL9go",
        "outputId": "652a950f-b0c2-4623-98bd-0191b300cd57"
      },
      "outputs": [
        {
          "name": "stdout",
          "output_type": "stream",
          "text": [
            "N/A\n"
          ]
        }
      ],
      "source": [
        "del d['fish']        # Remove an element from a dictionary\n",
        "print(d.get('fish', 'N/A')) # \"fish\" is no longer a key; prints \"N/A\""
      ]
    },
    {
      "cell_type": "markdown",
      "metadata": {
        "id": "wqm4dRZNL9gr"
      },
      "source": [
        "You can find all you need to know about dictionaries in the [documentation](https://docs.python.org/2/library/stdtypes.html#dict)."
      ]
    },
    {
      "cell_type": "markdown",
      "metadata": {
        "id": "IxwEqHlGL9gr"
      },
      "source": [
        "It is easy to iterate over the keys in a dictionary:"
      ]
    },
    {
      "cell_type": "code",
      "execution_count": null,
      "metadata": {
        "colab": {
          "base_uri": "https://localhost:8080/",
          "height": 69
        },
        "id": "rYfz7ZKNL9gs",
        "outputId": "155bdb17-3179-4292-c832-8166e955e942"
      },
      "outputs": [
        {
          "name": "stdout",
          "output_type": "stream",
          "text": [
            "A person has 2 legs\n",
            "A cat has 4 legs\n",
            "A spider has 8 legs\n"
          ]
        }
      ],
      "source": [
        "d = {'person': 2, 'cat': 4, 'spider': 8}\n",
        "for animal, legs in d.items():\n",
        "    print('A {} has {} legs'.format(animal, legs))"
      ]
    },
    {
      "cell_type": "markdown",
      "metadata": {
        "id": "17sxiOpzL9gz"
      },
      "source": [
        "Dictionary comprehensions: These are similar to list comprehensions, but allow you to easily construct dictionaries. For example:"
      ]
    },
    {
      "cell_type": "code",
      "execution_count": null,
      "metadata": {
        "colab": {
          "base_uri": "https://localhost:8080/",
          "height": 34
        },
        "id": "8PB07imLL9gz",
        "outputId": "e9ddf886-39ed-4f35-dd80-64a19d2eec9b"
      },
      "outputs": [
        {
          "name": "stdout",
          "output_type": "stream",
          "text": [
            "{0: 0, 2: 4, 4: 16}\n"
          ]
        }
      ],
      "source": [
        "nums = [0, 1, 2, 3, 4]\n",
        "even_num_to_square = {x: x ** 2 for x in nums if x % 2 == 0}\n",
        "print(even_num_to_square)"
      ]
    },
    {
      "cell_type": "markdown",
      "metadata": {
        "id": "V9MHfUdvL9g2"
      },
      "source": [
        "### Sets"
      ]
    },
    {
      "cell_type": "markdown",
      "metadata": {
        "id": "Rpm4UtNpL9g2"
      },
      "source": [
        "A set is an unordered collection of distinct elements. As a simple example, consider the following:"
      ]
    },
    {
      "cell_type": "code",
      "execution_count": null,
      "metadata": {
        "colab": {
          "base_uri": "https://localhost:8080/",
          "height": 52
        },
        "id": "MmyaniLsL9g2",
        "outputId": "8f152d48-0a07-432a-cf98-8de4fd57ddbb"
      },
      "outputs": [
        {
          "name": "stdout",
          "output_type": "stream",
          "text": [
            "True\n",
            "False\n"
          ]
        }
      ],
      "source": [
        "animals = {'cat', 'dog'}\n",
        "print('cat' in animals)   # Check if an element is in a set; prints \"True\"\n",
        "print('fish' in animals)  # prints \"False\"\n"
      ]
    },
    {
      "cell_type": "code",
      "execution_count": null,
      "metadata": {
        "colab": {
          "base_uri": "https://localhost:8080/",
          "height": 52
        },
        "id": "ElJEyK86L9g6",
        "outputId": "b9d7dab9-5a98-41cd-efbc-786d0c4377f7"
      },
      "outputs": [
        {
          "name": "stdout",
          "output_type": "stream",
          "text": [
            "True\n",
            "3\n"
          ]
        }
      ],
      "source": [
        "animals.add('fish')      # Add an element to a set\n",
        "print('fish' in animals)\n",
        "print(len(animals))       # Number of elements in a set;"
      ]
    },
    {
      "cell_type": "code",
      "execution_count": null,
      "metadata": {
        "colab": {
          "base_uri": "https://localhost:8080/",
          "height": 52
        },
        "id": "5uGmrxdPL9g9",
        "outputId": "e644d24c-26c6-4b43-ab15-8aa81fe884d4"
      },
      "outputs": [
        {
          "name": "stdout",
          "output_type": "stream",
          "text": [
            "3\n",
            "2\n"
          ]
        }
      ],
      "source": [
        "animals.add('cat')       # Adding an element that is already in the set does nothing\n",
        "print(len(animals))\n",
        "animals.remove('cat')    # Remove an element from a set\n",
        "print(len(animals))"
      ]
    },
    {
      "cell_type": "markdown",
      "metadata": {
        "id": "zk2DbvLKL9g_"
      },
      "source": [
        "_Loops_: Iterating over a set has the same syntax as iterating over a list; however since sets are unordered, you cannot make assumptions about the order in which you visit the elements of the set:"
      ]
    },
    {
      "cell_type": "code",
      "execution_count": null,
      "metadata": {
        "colab": {
          "base_uri": "https://localhost:8080/",
          "height": 69
        },
        "id": "K47KYNGyL9hA",
        "outputId": "4477f897-4355-4816-b39b-b93ffbac4bf0"
      },
      "outputs": [
        {
          "name": "stdout",
          "output_type": "stream",
          "text": [
            "#1: cat\n",
            "#2: dog\n",
            "#3: fish\n"
          ]
        }
      ],
      "source": [
        "animals = {'cat', 'dog', 'fish'}\n",
        "for idx, animal in enumerate(animals):\n",
        "    print('#{}: {}'.format(idx + 1, animal))"
      ]
    },
    {
      "cell_type": "markdown",
      "metadata": {
        "id": "puq4S8buL9hC"
      },
      "source": [
        "Set comprehensions: Like lists and dictionaries, we can easily construct sets using set comprehensions:"
      ]
    },
    {
      "cell_type": "code",
      "execution_count": null,
      "metadata": {
        "colab": {
          "base_uri": "https://localhost:8080/",
          "height": 34
        },
        "id": "iw7k90k3L9hC",
        "outputId": "72d6b824-6d31-47b2-f929-4cf434590ee5"
      },
      "outputs": [
        {
          "name": "stdout",
          "output_type": "stream",
          "text": [
            "{0, 1, 2, 3, 4, 5}\n"
          ]
        }
      ],
      "source": [
        "from math import sqrt\n",
        "print({int(sqrt(x)) for x in range(30)})"
      ]
    },
    {
      "cell_type": "markdown",
      "metadata": {
        "id": "qPsHSKB1L9hF"
      },
      "source": [
        "### Tuples"
      ]
    },
    {
      "cell_type": "markdown",
      "metadata": {
        "id": "kucc0LKVL9hG"
      },
      "source": [
        "A tuple is an (immutable) ordered list of values. A tuple is in many ways similar to a list; one of the most important differences is that tuples can be used as keys in dictionaries and as elements of sets, while lists cannot. Here is a trivial example:"
      ]
    },
    {
      "cell_type": "code",
      "execution_count": null,
      "metadata": {
        "colab": {
          "base_uri": "https://localhost:8080/",
          "height": 69
        },
        "id": "9wHUyTKxL9hH",
        "outputId": "cdc5f620-04fe-4b0b-df7a-55b061d23d88"
      },
      "outputs": [
        {
          "name": "stdout",
          "output_type": "stream",
          "text": [
            "<class 'tuple'>\n",
            "5\n",
            "1\n"
          ]
        }
      ],
      "source": [
        "d = {(x, x + 1): x for x in range(10)}  # Create a dictionary with tuple keys\n",
        "t = (5, 6)       # Create a tuple\n",
        "print(type(t))\n",
        "print(d[t])\n",
        "print(d[(1, 2)])"
      ]
    },
    {
      "cell_type": "code",
      "execution_count": null,
      "metadata": {
        "colab": {
          "base_uri": "https://localhost:8080/",
          "height": 165
        },
        "id": "HoO8zYKzL9hJ",
        "outputId": "28862bfc-0298-40d7-f8c4-168e109d2d93"
      },
      "outputs": [
        {
          "ename": "TypeError",
          "evalue": "'tuple' object does not support item assignment",
          "output_type": "error",
          "traceback": [
            "\u001b[1;31m---------------------------------------------------------------------------\u001b[0m",
            "\u001b[1;31mTypeError\u001b[0m                                 Traceback (most recent call last)",
            "Input \u001b[1;32mIn [38]\u001b[0m, in \u001b[0;36m<cell line: 1>\u001b[1;34m()\u001b[0m\n\u001b[1;32m----> 1\u001b[0m \u001b[43mt\u001b[49m\u001b[43m[\u001b[49m\u001b[38;5;241;43m0\u001b[39;49m\u001b[43m]\u001b[49m \u001b[38;5;241m=\u001b[39m \u001b[38;5;241m1\u001b[39m\n",
            "\u001b[1;31mTypeError\u001b[0m: 'tuple' object does not support item assignment"
          ]
        }
      ],
      "source": [
        "t[0] = 1"
      ]
    },
    {
      "cell_type": "markdown",
      "metadata": {
        "id": "AXA4jrEOL9hM"
      },
      "source": [
        "## Functions"
      ]
    },
    {
      "cell_type": "markdown",
      "metadata": {
        "id": "WaRms-QfL9hN"
      },
      "source": [
        "Python functions are defined using the `def` keyword. For example:"
      ]
    },
    {
      "cell_type": "code",
      "execution_count": null,
      "metadata": {
        "colab": {
          "base_uri": "https://localhost:8080/",
          "height": 69
        },
        "id": "kiMDUr58L9hN",
        "outputId": "9f53bf9a-7b2a-4c51-9def-398e4677cd6c"
      },
      "outputs": [
        {
          "name": "stdout",
          "output_type": "stream",
          "text": [
            "negative\n",
            "zero\n",
            "positive\n"
          ]
        }
      ],
      "source": [
        "def sign(x):\n",
        "    if x > 0:\n",
        "        return 'positive'\n",
        "    elif x < 0:\n",
        "        return 'negative'\n",
        "    else:\n",
        "        return 'zero'\n",
        "\n",
        "for x in [-1, 0, 1]:\n",
        "    print(sign(x))"
      ]
    },
    {
      "cell_type": "markdown",
      "metadata": {
        "id": "U-QJFt8TL9hR"
      },
      "source": [
        "We will often define functions to take optional keyword arguments, like this:"
      ]
    },
    {
      "cell_type": "code",
      "execution_count": null,
      "metadata": {
        "colab": {
          "base_uri": "https://localhost:8080/",
          "height": 52
        },
        "id": "PfsZ3DazL9hR",
        "outputId": "6e6af832-67d8-4d8c-949b-335927684ae3"
      },
      "outputs": [
        {
          "name": "stdout",
          "output_type": "stream",
          "text": [
            "Hello, Bob!\n",
            "HELLO, FRED\n"
          ]
        }
      ],
      "source": [
        "def hello(name, loud=False):\n",
        "    if loud:\n",
        "        print('HELLO, {}'.format(name.upper()))\n",
        "    else:\n",
        "        print('Hello, {}!'.format(name))\n",
        "\n",
        "hello('Bob')\n",
        "hello('Fred', loud=True)"
      ]
    },
    {
      "cell_type": "markdown",
      "metadata": {
        "id": "PL7yj77GmK1z"
      },
      "source": [
        "### $\\lambda$-functions"
      ]
    },
    {
      "cell_type": "code",
      "execution_count": null,
      "metadata": {
        "id": "9vB9498fmK1z",
        "outputId": "a8a58e5a-d02a-4eae-a41a-5ad446696fec"
      },
      "outputs": [
        {
          "data": {
            "text/plain": [
              "-98"
            ]
          },
          "execution_count": 1,
          "metadata": {},
          "output_type": "execute_result"
        }
      ],
      "source": [
        "f = lambda x, y: x+y-x*y\n",
        "f(10, 12)"
      ]
    },
    {
      "cell_type": "markdown",
      "metadata": {
        "id": "ObA9PRtQL9hT"
      },
      "source": [
        "## Classes"
      ]
    },
    {
      "cell_type": "markdown",
      "metadata": {
        "id": "a8qJHqvomK11"
      },
      "source": [
        "### Task: Course Management System for Students\n",
        "\n",
        "#### Description\n",
        "\n",
        "Develop a system to manage course enrollments for students at a university. This system should allow students to enroll in courses, drop courses, and list currently enrolled courses. Additionally, the system should enable the management of course information and track the history of student enrollments and course completions.\n",
        "\n",
        "#### Tasks\n",
        "\n",
        "1. **`Course` Class**:\n",
        "   - Attributes: course name, course code, maximum students, list of enrolled students.\n",
        "   - Methods: constructor, method to add a student to the course, method to remove a student from the course, method to display course info.\n",
        "\n",
        "2. **`Student` Class**:\n",
        "   - Attributes: student name, student ID, list of enrolled courses.\n",
        "   - Methods: constructor, methods for enrolling in a course, dropping a course, listing currently enrolled courses.\n",
        "\n",
        "3. **`EnrollmentSystem` Class**:\n",
        "   - Attributes: list of courses, list of students, enrollment history (which student enrolled in/dropped which course and when).\n",
        "   - Methods: constructor, methods for adding and removing courses, registering and deregistering students, methods for enrolling and dropping courses for students, method to display enrollment history.\n",
        "\n",
        "#### Assignment\n",
        "\n",
        "1. Implement the `Course`, `Student`, and `EnrollmentSystem` classes with the specified attributes and methods.\n",
        "2. Create several courses and students, and add them to the enrollment system.\n",
        "3. Implement scenarios for students enrolling in and dropping courses.\n",
        "4. Display the enrollment history to show the sequence of enrollments and course completions.\n",
        "\n",
        "This task focuses on object-oriented programming principles, encouraging the practice of managing relationships between objects (courses and students) within a larger system (the enrollment system).\n"
      ]
    },
    {
      "cell_type": "markdown",
      "metadata": {
        "id": "gmXh0VoJmK11"
      },
      "source": [
        "### Solution"
      ]
    },
    {
      "cell_type": "code",
      "execution_count": null,
      "metadata": {
        "id": "IZyFiVNVmK12",
        "outputId": "38e2e755-8167-42db-8218-900350a64cdb"
      },
      "outputs": [
        {
          "name": "stdout",
          "output_type": "stream",
          "text": [
            "Enrollment system created\n",
            "Course Introduction to Python created\n",
            "Student Alice Johnson created\n",
            "Alice Johnson enrolled in Introduction to Python\n",
            "Alice Johnson dropped Introduction to Python\n",
            "Alice Johnson enrolled in Introduction to Python\n",
            "Alice Johnson dropped Introduction to Python\n"
          ]
        }
      ],
      "source": [
        "class Course:\n",
        "    def __init__(self, name, code, max_students):\n",
        "        self.name = name\n",
        "        self.code = code\n",
        "        self.max_students = max_students\n",
        "        self.enrolled_students = []\n",
        "        print(f\"Course {name} created\")\n",
        "\n",
        "    def add_student(self, student):\n",
        "        if len(self.enrolled_students) < self.max_students and student not in self.enrolled_students:\n",
        "            self.enrolled_students.append(student)\n",
        "            print(f\"{student.name} enrolled in {self.name}\")\n",
        "            return True\n",
        "        print(f\"Enrollment failed. Student limit reached for {self.name}\")\n",
        "        return False\n",
        "\n",
        "    def remove_student(self, student):\n",
        "        if student in self.enrolled_students:\n",
        "            self.enrolled_students.remove(student)\n",
        "            print(f\"{student.name} dropped {self.name}\")\n",
        "            return True\n",
        "        print(f\"Drop failed. {student.name} is not enrolled in {self.name}\")\n",
        "        return False\n",
        "\n",
        "    def display_info(self):\n",
        "        return f\"{self.name} ({self.code}) - Max Students: {self.max_students}, Enrolled: {len(self.enrolled_students)}\"\n",
        "\n",
        "class Student:\n",
        "    def __init__(self, name, student_id):\n",
        "        self.name = name\n",
        "        self.student_id = student_id\n",
        "        self.enrolled_courses = []\n",
        "        print(f\"Student {name} created\")\n",
        "\n",
        "    def enroll(self, course):\n",
        "        if course.add_student(self):\n",
        "            self.enrolled_courses.append(course)\n",
        "            return True\n",
        "        return False\n",
        "\n",
        "    def drop(self, course):\n",
        "        if course.remove_student(self):\n",
        "            self.enrolled_courses.remove(course)\n",
        "            return True\n",
        "        return False\n",
        "\n",
        "    def list_courses(self):\n",
        "        return [course.display_info() for course in self.enrolled_courses]\n",
        "\n",
        "class EnrollmentSystem:\n",
        "    def __init__(self):\n",
        "        self.courses = []\n",
        "        self.students = []\n",
        "        self.enrollment_history = []\n",
        "        print(\"Enrollment system created\")\n",
        "\n",
        "    def add_course(self, course):\n",
        "        self.courses.append(course)\n",
        "\n",
        "    def remove_course(self, course):\n",
        "        if course in self.courses:\n",
        "            self.courses.remove(course)\n",
        "\n",
        "    def register_student(self, student):\n",
        "        self.students.append(student)\n",
        "\n",
        "    def deregister_student(self, student):\n",
        "        if student in self.students:\n",
        "            self.students.remove(student)\n",
        "\n",
        "    def enroll_student(self, student, course):\n",
        "        if student.enroll(course):\n",
        "            self.enrollment_history.append(f\"{student.name} enrolled in {course.name}\")\n",
        "            return True\n",
        "        return False\n",
        "\n",
        "    def drop_student(self, student, course):\n",
        "        if student.drop(course):\n",
        "            self.enrollment_history.append(f\"{student.name} dropped {course.name}\")\n",
        "            return True\n",
        "        return False\n",
        "\n",
        "    def display_enrollment_history(self):\n",
        "        for record in self.enrollment_history:\n",
        "            print(record)\n",
        "\n",
        "# Example usage\n",
        "system = EnrollmentSystem()\n",
        "\n",
        "# Creating courses\n",
        "course1 = Course(\"Introduction to Python\", \"CS101\", 30)\n",
        "system.add_course(course1)\n",
        "\n",
        "# Registering students\n",
        "student1 = Student(\"Alice Johnson\", \"S1001\")\n",
        "system.register_student(student1)\n",
        "\n",
        "# Enrolling in courses\n",
        "system.enroll_student(student1, course1)\n",
        "\n",
        "# Dropping courses\n",
        "system.drop_student(student1, course1)\n",
        "\n",
        "# Displaying enrollment history\n",
        "system.display_enrollment_history()\n"
      ]
    },
    {
      "cell_type": "code",
      "execution_count": null,
      "metadata": {
        "id": "tt1P9mQLmK13",
        "outputId": "42ba8c92-8bc1-4f67-91dc-9ac28dc7b236"
      },
      "outputs": [
        {
          "name": "stdout",
          "output_type": "stream",
          "text": [
            "John Doe enrolled in Python Basics\n",
            "Jane Doe enrolled in Python Basics\n",
            "Enrollment failed. Student limit reached for Python Basics\n",
            "John Doe dropped Python Basics\n",
            "Drop failed. Jim Beam is not enrolled in Python Basics\n",
            "Python Basics (PY101) - Max Students: 2, Enrolled: 1\n"
          ]
        }
      ],
      "source": [
        "# Test adding a student to a course\n",
        "course_python = Course(\"Python Basics\", \"PY101\", 2)\n",
        "student1 = Student(\"John Doe\", \"001\")\n",
        "student2 = Student(\"Jane Doe\", \"002\")\n",
        "assert course_python.add_student(student1) == True, \"Student 1 should be added successfully.\"\n",
        "assert course_python.add_student(student2) == True, \"Student 2 should be added successfully.\"\n",
        "# Try to add a third student to a full course\n",
        "student3 = Student(\"Jim Beam\", \"003\")\n",
        "assert course_python.add_student(student3) == False, \"Should not add a student to a full course.\"\n",
        "\n",
        "# Test removing a student from a course\n",
        "assert course_python.remove_student(student1) == True, \"Student 1 should be removed successfully.\"\n",
        "assert course_python.remove_student(student3) == False, \"Attempting to remove a non-enrolled student should fail.\"\n",
        "\n",
        "# Test displaying course info\n",
        "print(course_python.display_info())  # Manual check for correct display info\n"
      ]
    },
    {
      "cell_type": "markdown",
      "metadata": {
        "id": "guKWDk9tmK16"
      },
      "source": [
        "# Homework"
      ]
    },
    {
      "cell_type": "markdown",
      "metadata": {
        "id": "MNaQmmsmmK17"
      },
      "source": [
        "## Problem 1"
      ]
    },
    {
      "cell_type": "markdown",
      "metadata": {
        "id": "JBKP8oRWmK18"
      },
      "source": [
        "Make a tuple containing natural numbers, the square of which is a multiple of 3, 4, but not a multiple of 8 and not exceeding 12345."
      ]
    },
    {
      "cell_type": "code",
      "execution_count": null,
      "metadata": {
        "id": "wDhirn1umK18",
        "outputId": "2ddc7b9e-beac-46e8-a36d-a860c65d7cbb",
        "colab": {
          "base_uri": "https://localhost:8080/"
        }
      },
      "outputs": [
        {
          "output_type": "stream",
          "name": "stdout",
          "text": [
            "2, 3, 6, 9, 10, 14, 15, 18, 21, 22, 26, 27, 30, 33, 34, 38, 39, 42, 45, 46, 50, 51, 54, 57, 58, 62, 63, 66, 69, 70, 74, 75, 78, 81, 82, 86, 87, 90, 93, 94, 98, 99, 102, 105, 106, 110, 111\n"
          ]
        }
      ],
      "source": [
        "t = tuple()\n",
        "for i in range(12345):\n",
        "    square = i ** 2\n",
        "    if ((square % 3 == 0 or square % 4 == 0) and square % 8 != 0):\n",
        "        t += (i,)\n",
        "print (t)"
      ]
    },
    {
      "cell_type": "markdown",
      "metadata": {
        "id": "4ObRhnZomK19"
      },
      "source": [
        "## Problem 2"
      ]
    },
    {
      "cell_type": "markdown",
      "metadata": {
        "id": "OuXnIwSzmK19"
      },
      "source": [
        "\n",
        "Write a function that takes a two-dimensional array and a string as input and returns an array rotated 90 degrees counterclockwise if the string 'left' was passed, and clockwise if the string 'right' was passed.\n",
        "\n",
        "Example for input: $\\begin{bmatrix} 1 & 2 & 3 \\\\ 4 & 5 & 6 \\\\ 7 & 8 & 9 \\end{bmatrix}$.\\\n",
        "If the string 'left' is passed, the function should return $\\begin{bmatrix} 3 & 6 & 9 \\\\ 2 & 5 & 8 \\\\ 1 & 4 & 7 \\end{bmatrix}$, and if the string 'right' is passed, the function should return $\\begin{bmatrix} 7 & 4 & 1 \\\\ 8 & 5 & 2 \\\\ 9 & 6 & 3 \\end{bmatrix}$."
      ]
    },
    {
      "cell_type": "code",
      "execution_count": null,
      "metadata": {
        "id": "WUfOKX7xmK1_",
        "outputId": "d696f100-8e0c-4f0d-8aa0-7039e6a417da",
        "colab": {
          "base_uri": "https://localhost:8080/"
        }
      },
      "outputs": [
        {
          "output_type": "stream",
          "name": "stdout",
          "text": [
            "Input direction of rotation: left\n",
            "[[2 4 6 8]\n",
            " [1 3 5 7]]\n"
          ]
        }
      ],
      "source": [
        "import numpy as np\n",
        "matrix = np.array([[1, 2], [3, 4], [5, 6], [7, 8]])\n",
        "direction = input(\"Input direction of rotation: \")\n",
        "if (direction == 'left'):\n",
        "    rotated = np.rot90(matrix)\n",
        "    print(rotated)\n",
        "else:\n",
        "    if (direction == 'right'):\n",
        "        rotated = np.rot90(matrix, k = 3)\n",
        "        print(rotated)\n",
        "    else:\n",
        "        print(\"Unknow direction!\")"
      ]
    },
    {
      "cell_type": "markdown",
      "metadata": {
        "id": "FKZijqHBmK2A"
      },
      "source": [
        "## Problem 3"
      ]
    },
    {
      "cell_type": "markdown",
      "metadata": {
        "id": "d_ZzV_rLmK2A"
      },
      "source": [
        "Write a function that takes a string as input and returns a dictionary containing the number of occurrences of each character in the string.\n",
        "\n",
        "Example for the string 'hello, world!': {'h': 1, 'e': 1, 'l': 3, 'o': 2, ',': 1, ' ': 1, 'w': 1, 'r': 1, 'd': 1, '!': 1}."
      ]
    },
    {
      "cell_type": "code",
      "execution_count": null,
      "metadata": {
        "id": "ALGVAi9HmK2B",
        "outputId": "c7ece28d-9ff0-438b-d164-ca95e0d49c99",
        "colab": {
          "base_uri": "https://localhost:8080/"
        }
      },
      "outputs": [
        {
          "output_type": "stream",
          "name": "stdout",
          "text": [
            "Input something: please\n",
            "{'p': 1, 'l': 1, 'e': 2, 'a': 1, 's': 1}\n"
          ]
        }
      ],
      "source": [
        "my_string = input(\"Input something: \")\n",
        "dictionary = {}\n",
        "for i in range(len(my_string)):\n",
        "    check = dictionary.get(my_string[i])\n",
        "    if(check == None):\n",
        "        dictionary[my_string[i]] = 1\n",
        "    else:\n",
        "        dictionary[my_string[i]] += 1\n",
        "print(dictionary)"
      ]
    },
    {
      "cell_type": "markdown",
      "metadata": {
        "id": "TohlJBQxmK2D"
      },
      "source": [
        "## Problem 4"
      ]
    },
    {
      "cell_type": "markdown",
      "metadata": {
        "id": "hkaFhO1AmK2D"
      },
      "source": [
        "### Implementing a Library Management System\n",
        "\n",
        "#### Description\n",
        "\n",
        "You are required to design and implement a system for managing books and users in a library. The system should allow for the management of books (adding, deleting, searching by various criteria) and users (registration, deletion, searching), as well as tracking the history of interactions between them (issuing and returning books).\n",
        "\n",
        "#### Tasks\n",
        "\n",
        "1. **`Book` Class**:\n",
        "   - Attributes: title, author, year of publication, ISBN, number of copies.\n",
        "   - Methods: constructor, methods to get information about the book, method to change the number of copies (when issuing and returning books).\n",
        "\n",
        "2. **`User` Class**:\n",
        "   - Attributes: user name, library card number, list of borrowed books.\n",
        "   - Methods: constructor, methods for user registration, methods for adding and removing books from the borrowed list.\n",
        "\n",
        "3. **`Library` Class**:\n",
        "   - Attributes: list of books, list of users, transaction history (who, when, which book was borrowed and returned).\n",
        "   - Methods: constructor, methods for adding and deleting books and users, methods for issuing and returning books, searching for books and users by various criteria, method to display the transaction history.\n",
        "\n",
        "#### Assignment\n",
        "\n",
        "1. Implement the `Book`, `User`, and `Library` classes with the specified attributes and methods.\n",
        "2. Create several books and users, and add them to the library system.\n",
        "3. Implement scenarios for issuing books to users and their return.\n",
        "4. Display the transaction history to show how books were issued and returned.\n"
      ]
    },
    {
      "cell_type": "code",
      "execution_count": null,
      "metadata": {
        "id": "6r8S-0pDmK2E"
      },
      "outputs": [],
      "source": [
        "# не получилось(("
      ]
    },
    {
      "cell_type": "markdown",
      "metadata": {
        "id": "6tjdfLtvmK2E"
      },
      "source": [
        "## Problem 5*"
      ]
    },
    {
      "cell_type": "markdown",
      "metadata": {
        "id": "1oLiFpKzmK2F"
      },
      "source": [
        "Explain why list `b` changes after the execution of the following code:\n",
        "\n",
        "```python\n",
        "a = [1, 2, 3]\n",
        "b = [a]\n",
        "a[0] = 4\n",
        "print(b)\n",
        "```"
      ]
    },
    {
      "cell_type": "markdown",
      "metadata": {
        "id": "YY_X441tmK2J"
      },
      "source": [
        "> Write your answer in markdown cell after: это происходит, потому что список b является не копией списка a, а лишь содержит указатель на него, поэтому все изменения списка a отражаются и в списке b."
      ]
    },
    {
      "cell_type": "markdown",
      "metadata": {
        "id": "PvS1Vn54mK2K"
      },
      "source": []
    },
    {
      "cell_type": "markdown",
      "metadata": {
        "id": "OJexLmqmmK2L"
      },
      "source": [
        "## Problem 6*"
      ]
    },
    {
      "cell_type": "markdown",
      "metadata": {
        "id": "Mx7QX-p4mK2L"
      },
      "source": [
        "Let\n",
        "$$A = \\sum_{i=1}^{10000} \\frac{1}{i^2},\\quad B=\\sum_{i=10000}^{1} \\frac{1}{i^2}.$$\n",
        "Calculate the values of $A$ and $B$ and compare them. What do you observe? Explain why this happens. What is the best way to calculate the value of $\\sum\\limits_{i=1}^{10000} \\dfrac{1}{i^2}$?"
      ]
    },
    {
      "cell_type": "code",
      "execution_count": null,
      "metadata": {
        "id": "m18kppOTmK2L",
        "outputId": "96398724-dcbf-4b1f-9843-d99878d56c4f",
        "colab": {
          "base_uri": "https://localhost:8080/",
          "height": 139
        }
      },
      "outputs": [
        {
          "output_type": "stream",
          "name": "stdout",
          "text": [
            "1.6448340718480652\n",
            "1.6448340718480596\n"
          ]
        },
        {
          "output_type": "execute_result",
          "data": {
            "text/plain": [
              "'\\nПроблема в том, что числа, которые учавствуют в сумме, имеют слишком много знаков после запятой, соостветсвенно при их суммировании\\nв разных \"направлениях\", мы получаем разные результаты, т. к. алгоритмы округления работают по разному. Все дроби хранятся в виде двоичных\\nв памяти компьютера, например, 0.25 хранится в виде 0.01. Когда мы запрашиваем в коде вывод её значения, комьютер выдает нам ближайшую\\nдесятичную дробь к данной двоичной. Соответсвенно, при разных \"направлениях\" суммирования, округление будет происходить по разному, т.к. \\nпромежуточные числа будут разные, и округляться будут, сооствественно, тоже по разному. \\n'"
            ],
            "application/vnd.google.colaboratory.intrinsic+json": {
              "type": "string"
            }
          },
          "metadata": {},
          "execution_count": 1
        }
      ],
      "source": [
        "a = 0\n",
        "b = 0\n",
        "for i in range(1, 10001): a += 1/(i**2)\n",
        "for i in range(0, 10000): b += 1/((10000-i)**2)\n",
        "print(a)\n",
        "print(b)\n",
        "\n",
        "'''\n",
        "Проблема в том, что числа, которые учавствуют в сумме, имеют слишком много знаков после запятой, соостветсвенно при их суммировании\n",
        "в разных \"направлениях\", мы получаем разные результаты, т. к. алгоритмы округления работают по разному. Все дроби хранятся в виде двоичных\n",
        "в памяти компьютера, например, 0.25 хранится в виде 0.01. Когда мы запрашиваем в коде вывод её значения, комьютер выдает нам ближайшую\n",
        "десятичную дробь к данной двоичной. Соответсвенно, при разных \"направлениях\" суммирования, округление будет происходить по разному, т.к.\n",
        "промежуточные числа будут разные, и округляться будут, сооствественно, тоже по разному.\n",
        "'''\n"
      ]
    }
  ],
  "metadata": {
    "colab": {
      "provenance": []
    },
    "kernelspec": {
      "display_name": "Python 3",
      "language": "python",
      "name": "python3"
    },
    "language_info": {
      "codemirror_mode": {
        "name": "ipython",
        "version": 3
      },
      "file_extension": ".py",
      "mimetype": "text/x-python",
      "name": "python",
      "nbconvert_exporter": "python",
      "pygments_lexer": "ipython3",
      "version": "3.10.6"
    }
  },
  "nbformat": 4,
  "nbformat_minor": 0
}